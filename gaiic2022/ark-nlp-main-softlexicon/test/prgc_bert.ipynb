{
 "cells": [
  {
   "cell_type": "code",
   "execution_count": 1,
   "id": "1fffb706",
   "metadata": {},
   "outputs": [],
   "source": [
    "import warnings\n",
    "warnings.filterwarnings(\"ignore\")\n",
    "\n",
    "import os\n",
    "import json\n",
    "import jieba\n",
    "import torch\n",
    "import pickle\n",
    "import codecs\n",
    "import torch.nn as nn\n",
    "import torch.optim as optim\n",
    "import pandas as pd\n",
    "\n",
    "from ark_nlp.model.re.prgc_bert import PRGCBert\n",
    "from ark_nlp.model.re.prgc_bert import PRGCBertConfig\n",
    "from ark_nlp.model.re.prgc_bert import Dataset\n",
    "from ark_nlp.model.re.prgc_bert import Task\n",
    "from ark_nlp.model.re.prgc_bert import get_default_model_optimizer\n",
    "from ark_nlp.model.re.prgc_bert import Tokenizer"
   ]
  },
  {
   "cell_type": "code",
   "execution_count": 2,
   "id": "7c408fef",
   "metadata": {},
   "outputs": [],
   "source": [
    "# 目录地址\n",
    "\n",
    "train_data_path = '../data/source_datasets/CMeIE/CMeIE_train.json'\n",
    "dev_data_path = '../data/source_datasets/CMeIE/CMeIE_dev.json'"
   ]
  },
  {
   "cell_type": "markdown",
   "id": "aaa050bf",
   "metadata": {},
   "source": [
    "#### 1. 数据读入"
   ]
  },
  {
   "cell_type": "code",
   "execution_count": 3,
   "id": "0db2b1c3",
   "metadata": {},
   "outputs": [],
   "source": [
    "train_data_list = []\n",
    "\n",
    "with codecs.open(train_data_path, mode='r', encoding='utf8') as f:\n",
    "    lines = f.readlines()\n",
    "    for index_, line_ in enumerate(lines):\n",
    "        record_ = {}\n",
    "        line_ = json.loads(line_.strip())\n",
    "        record_['text'] = line_['text']\n",
    "        record_['label'] = []\n",
    "        for triple_ in line_['spo_list']:\n",
    "            record_['label'].append([\n",
    "                triple_['subject'],\n",
    "                record_['text'].index(triple_['subject']),\n",
    "                record_['text'].index(triple_['subject'])+ len(triple_['subject']) - 1,\n",
    "                triple_['predicate'] + '@' + triple_['object_type']['@value'],\n",
    "                triple_['object']['@value'],\n",
    "                record_['text'].index(triple_['object']['@value']),\n",
    "                record_['text'].index(triple_['object']['@value']) + len(triple_['object']['@value']) - 1,\n",
    "            ])\n",
    "        train_data_list.append(record_)\n",
    "\n",
    "train_data_df = pd.DataFrame(train_data_list)"
   ]
  },
  {
   "cell_type": "code",
   "execution_count": 4,
   "id": "90beda8f",
   "metadata": {},
   "outputs": [],
   "source": [
    "dev_data_list = []\n",
    "counter = 0\n",
    "with codecs.open(dev_data_path, mode='r', encoding='utf8') as f:\n",
    "    lines = f.readlines()\n",
    "    for index_, line_ in enumerate(lines):\n",
    "        record_ = {}\n",
    "        line_ = json.loads(line_.strip())\n",
    "        record_['text'] = line_['text']\n",
    "        record_['label'] = []\n",
    "        for triple_ in line_['spo_list']:\n",
    "            record_['label'].append([\n",
    "                triple_['subject'],\n",
    "                record_['text'].index(triple_['subject']),\n",
    "                record_['text'].index(triple_['subject'])+ len(triple_['subject']) - 1,\n",
    "                triple_['predicate'] + '@' + triple_['object_type']['@value'],\n",
    "                triple_['object']['@value'],\n",
    "                record_['text'].index(triple_['object']['@value']),\n",
    "                record_['text'].index(triple_['object']['@value']) + len(triple_['object']['@value']) - 1,\n",
    "            ])\n",
    "            counter += 1\n",
    "        dev_data_list.append(record_)\n",
    "        \n",
    "dev_data_df = pd.DataFrame(dev_data_list)"
   ]
  },
  {
   "cell_type": "code",
   "execution_count": 5,
   "id": "d948c64e",
   "metadata": {},
   "outputs": [],
   "source": [
    "re_train_dataset = Dataset(train_data_df, is_retain_dataset=True)\n",
    "re_dev_dataset = Dataset(dev_data_df,\n",
    "                         categories = re_train_dataset.categories,\n",
    "                         is_train=False)"
   ]
  },
  {
   "cell_type": "markdown",
   "id": "b8ec271e",
   "metadata": {},
   "source": [
    "#### 2. 词典创建和生成分词器"
   ]
  },
  {
   "cell_type": "code",
   "execution_count": 6,
   "id": "2fc7e08e",
   "metadata": {},
   "outputs": [],
   "source": [
    "tokenizer = Tokenizer(vocab='nghuyong/ernie-1.0', max_seq_len=100)"
   ]
  },
  {
   "cell_type": "markdown",
   "id": "945d2a05",
   "metadata": {},
   "source": [
    "#### 3. ID化"
   ]
  },
  {
   "cell_type": "code",
   "execution_count": 7,
   "id": "f4888ea9",
   "metadata": {},
   "outputs": [],
   "source": [
    "re_train_dataset.convert_to_ids(tokenizer)\n",
    "re_dev_dataset.convert_to_ids(tokenizer)"
   ]
  },
  {
   "cell_type": "markdown",
   "id": "1a5ca493",
   "metadata": {},
   "source": [
    "<br>\n",
    "\n",
    "### 二、模型构建"
   ]
  },
  {
   "cell_type": "markdown",
   "id": "479f6a8a",
   "metadata": {},
   "source": [
    "#### 1. 模型参数设置"
   ]
  },
  {
   "cell_type": "code",
   "execution_count": 8,
   "id": "f0bf2def",
   "metadata": {},
   "outputs": [],
   "source": [
    "bert_config = PRGCBertConfig.from_pretrained('nghuyong/ernie-1.0',\n",
    "                                               num_labels=len(re_train_dataset.cat2id))"
   ]
  },
  {
   "cell_type": "markdown",
   "id": "d639f0cd",
   "metadata": {},
   "source": [
    "#### 2. 模型创建"
   ]
  },
  {
   "cell_type": "code",
   "execution_count": 9,
   "id": "6bccad0f",
   "metadata": {},
   "outputs": [
    {
     "name": "stderr",
     "output_type": "stream",
     "text": [
      "Some weights of the model checkpoint at nghuyong/ernie-1.0 were not used when initializing PRGCBert: ['cls.predictions.decoder.bias', 'cls.predictions.transform.dense.weight', 'cls.predictions.transform.LayerNorm.weight', 'cls.predictions.bias', 'cls.predictions.decoder.weight', 'cls.predictions.transform.LayerNorm.bias', 'cls.predictions.transform.dense.bias']\n",
      "- This IS expected if you are initializing PRGCBert from the checkpoint of a model trained on another task or with another architecture (e.g. initializing a BertForSequenceClassification model from a BertForPreTraining model).\n",
      "- This IS NOT expected if you are initializing PRGCBert from the checkpoint of a model that you expect to be exactly identical (initializing a BertForSequenceClassification model from a BertForSequenceClassification model).\n",
      "Some weights of PRGCBert were not initialized from the model checkpoint at nghuyong/ernie-1.0 and are newly initialized: ['sequence_tagging_sub.hidden2tag.bias', 'sequence_tagging_sum.hidden2tag_obj.bias', 'sequence_tagging_sub.linear.bias', 'global_corres.linear.weight', 'sequence_tagging_sum.linear.bias', 'global_corres.hidden2tag.bias', 'sequence_tagging_obj.hidden2tag.weight', 'sequence_tagging_sub.linear.weight', 'rel_judgement.hidden2tag.weight', 'rel_judgement.hidden2tag.bias', 'rel_embedding.weight', 'rel_judgement.linear.weight', 'sequence_tagging_obj.linear.weight', 'global_corres.hidden2tag.weight', 'sequence_tagging_sum.hidden2tag_sub.bias', 'global_corres.linear.bias', 'sequence_tagging_obj.hidden2tag.bias', 'sequence_tagging_sum.hidden2tag_obj.weight', 'sequence_tagging_sub.hidden2tag.weight', 'sequence_tagging_sum.hidden2tag_sub.weight', 'sequence_tagging_sum.linear.weight', 'rel_judgement.linear.bias', 'sequence_tagging_obj.linear.bias']\n",
      "You should probably TRAIN this model on a down-stream task to be able to use it for predictions and inference.\n"
     ]
    }
   ],
   "source": [
    "dl_module = PRGCBert.from_pretrained('nghuyong/ernie-1.0',\n",
    "                                       config=bert_config)"
   ]
  },
  {
   "cell_type": "markdown",
   "id": "078529df",
   "metadata": {},
   "source": [
    "<br>\n",
    "\n",
    "### 三、任务构建"
   ]
  },
  {
   "cell_type": "markdown",
   "id": "9d2cb65b",
   "metadata": {},
   "source": [
    "#### 1. 任务参数和必要部件设定"
   ]
  },
  {
   "cell_type": "code",
   "execution_count": 10,
   "id": "357120df",
   "metadata": {},
   "outputs": [],
   "source": [
    "optimizer = get_default_model_optimizer(dl_module) "
   ]
  },
  {
   "cell_type": "markdown",
   "id": "75a8767f",
   "metadata": {},
   "source": [
    "#### 2. 任务创建"
   ]
  },
  {
   "cell_type": "code",
   "execution_count": 11,
   "id": "85bb739d",
   "metadata": {},
   "outputs": [],
   "source": [
    "model = Task(dl_module, optimizer, None, cuda_device=0)"
   ]
  },
  {
   "cell_type": "markdown",
   "id": "1a6446ac",
   "metadata": {},
   "source": [
    "#### 训练"
   ]
  },
  {
   "cell_type": "code",
   "execution_count": null,
   "id": "92f9759b",
   "metadata": {},
   "outputs": [],
   "source": [
    "model.fit(re_train_dataset,\n",
    "          re_dev_dataset,\n",
    "          epochs=30, \n",
    "          batch_size=6)"
   ]
  },
  {
   "cell_type": "markdown",
   "id": "ab9897db",
   "metadata": {},
   "source": [
    "<br>\n",
    "\n",
    "### 四、模型预测"
   ]
  },
  {
   "cell_type": "markdown",
   "id": "e1be027c-5b68-40f7-b15e-a6e72c767c71",
   "metadata": {},
   "source": [
    "#### 1. 模型验证"
   ]
  },
  {
   "cell_type": "code",
   "execution_count": 13,
   "id": "15e89700",
   "metadata": {},
   "outputs": [],
   "source": [
    "from ark_nlp.model.re.prgc_bert import Predictor\n",
    "\n",
    "prgc_re_predictor_instance = Predictor(model.module, tokenizer, re_train_dataset.cat2id)"
   ]
  },
  {
   "cell_type": "code",
   "execution_count": 14,
   "id": "86778f90",
   "metadata": {},
   "outputs": [],
   "source": [
    "text = '骨性关节炎@在其他关节（如踝关节和腕关节），骨性关节炎比较少见，并且一般有潜在的病因（如结晶性关节病、创伤）'"
   ]
  },
  {
   "cell_type": "code",
   "execution_count": 15,
   "id": "4d53a7f5",
   "metadata": {},
   "outputs": [
    {
     "data": {
      "text/plain": [
       "[('骨性关节炎', '相关（导致）@疾病', '踝关节'),\n",
       " ('骨性关节炎', '病因@社会学', '踝关节'),\n",
       " ('骨性关节炎', '发病部位@部位', '踝关节'),\n",
       " ('骨性关节炎', '相关（导致）@疾病', '腕关节'),\n",
       " ('骨性关节炎', '发病部位@部位', '腕关节'),\n",
       " ('骨性关节炎', '病因@社会学', '腕关节')]"
      ]
     },
     "execution_count": 15,
     "metadata": {},
     "output_type": "execute_result"
    }
   ],
   "source": [
    "prgc_re_predictor_instance.predict_one_sample(text)"
   ]
  },
  {
   "cell_type": "markdown",
   "id": "75718758-756e-436d-b599-ca2a63f8a754",
   "metadata": {},
   "source": [
    "#### 2. 多样本验证"
   ]
  },
  {
   "cell_type": "code",
   "execution_count": 16,
   "id": "d9c7bf5c-6d8a-49d4-a088-2f12a4737824",
   "metadata": {},
   "outputs": [],
   "source": [
    "record_ = []\n",
    "with codecs.open('../data/source_datasets/CMeIE/CMeIE_test.json', mode='r', encoding='utf8') as f:\n",
    "    lines = f.readlines()\n",
    "    for index_, line_ in enumerate(lines):\n",
    "        line_ = json.loads(line_.strip())\n",
    "        record_.append([line_['text'], prgc_re_predictor_instance.predict_one_sample(line_['text'])])"
   ]
  },
  {
   "cell_type": "markdown",
   "id": "b69ad88b-2761-4081-96fb-386612315f2c",
   "metadata": {},
   "source": [
    "<br>\n",
    "\n",
    "### 五、模型测试报告"
   ]
  },
  {
   "cell_type": "code",
   "execution_count": null,
   "id": "1265fb57-9ed1-42f2-94ab-9600227b9d42",
   "metadata": {},
   "outputs": [],
   "source": [
    "1. 基本功能测试 通过\n",
    "2. one sample predict 通过\n",
    "3. 多样本验证  通过"
   ]
  }
 ],
 "metadata": {
  "kernelspec": {
   "display_name": "Python 3 (ipykernel)",
   "language": "python",
   "name": "python3"
  },
  "language_info": {
   "codemirror_mode": {
    "name": "ipython",
    "version": 3
   },
   "file_extension": ".py",
   "mimetype": "text/x-python",
   "name": "python",
   "nbconvert_exporter": "python",
   "pygments_lexer": "ipython3",
   "version": "3.8.10"
  }
 },
 "nbformat": 4,
 "nbformat_minor": 5
}
