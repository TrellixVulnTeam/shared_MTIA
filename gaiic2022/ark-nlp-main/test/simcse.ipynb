{
 "cells": [
  {
   "cell_type": "code",
   "execution_count": null,
   "id": "65fa9e67-4db4-416d-988d-744f40354ba0",
   "metadata": {},
   "outputs": [],
   "source": [
    "import torch\n",
    "import pandas as pd\n",
    "\n",
    "from ark_nlp.model.tm.unsupervised_simcse import SimCSE\n",
    "from ark_nlp.model.tm.unsupervised_simcse import ModuleConfig\n",
    "from ark_nlp.model.tm.unsupervised_simcse import Dataset\n",
    "from ark_nlp.model.tm.unsupervised_simcse import Task\n",
    "from ark_nlp.model.tm.unsupervised_simcse import get_default_model_optimizer\n",
    "from ark_nlp.model.tm.unsupervised_simcse import Tokenizer"
   ]
  },
  {
   "cell_type": "code",
   "execution_count": null,
   "id": "c39ddabe-6210-4d59-b220-722b962b9c36",
   "metadata": {},
   "outputs": [],
   "source": [
    "# 目录地址\n",
    "train_data_path = '../data/source_datasets/LCQMC/train.txt'\n",
    "dev_data_path = '../data/source_datasets/LCQMC/dev.txt'"
   ]
  },
  {
   "cell_type": "markdown",
   "id": "029b35ad-1e0a-4d62-8be1-ac30d47f38d0",
   "metadata": {
    "tags": []
   },
   "source": [
    "### 一、数据读入与处理"
   ]
  },
  {
   "cell_type": "markdown",
   "id": "1685d7e9-5368-4c25-adc9-76243d5c9695",
   "metadata": {},
   "source": [
    "#### 1. 数据读入"
   ]
  },
  {
   "cell_type": "code",
   "execution_count": null,
   "id": "34dabada-18f3-486a-a439-45b0d8b46da2",
   "metadata": {},
   "outputs": [],
   "source": [
    "train_data_df = pd.read_csv(train_data_path, sep='\\t')\n",
    "train_data_df = (train_data_df\n",
    "                 .loc[:,['text_a']])\n",
    "train_data_df['text_b'] = train_data_df['text_a']\n",
    "\n",
    "dev_data_df = pd.read_csv(dev_data_path, sep='\\t')\n",
    "dev_data_df = (dev_data_df\n",
    "                 .loc[:,['text_a', 'text_b', 'label']])"
   ]
  },
  {
   "cell_type": "code",
   "execution_count": null,
   "id": "016f88bb-1254-4a5a-b99e-1838c8fc6d84",
   "metadata": {},
   "outputs": [],
   "source": [
    "simcse_train_dataset = Dataset(train_data_df)\n",
    "simcse_dev_dataset = Dataset(dev_data_df)"
   ]
  },
  {
   "cell_type": "markdown",
   "id": "56d57577-b513-435e-a0ea-ecc263714031",
   "metadata": {},
   "source": [
    "#### 2. 词典创建和生成分词器"
   ]
  },
  {
   "cell_type": "code",
   "execution_count": null,
   "id": "0950bce1-6634-4e1d-ade5-939cb42d22bb",
   "metadata": {},
   "outputs": [],
   "source": [
    "# 加载分词器\n",
    "tokenizer = Tokenizer(vocab='nghuyong/ernie-1.0', max_seq_len=64)"
   ]
  },
  {
   "cell_type": "markdown",
   "id": "a02628fb-53ae-4d51-8fa7-c53d75a1a324",
   "metadata": {},
   "source": [
    "#### 3. ID化"
   ]
  },
  {
   "cell_type": "code",
   "execution_count": null,
   "id": "dbc70709-1618-4b9a-8143-9c89b16adf06",
   "metadata": {},
   "outputs": [],
   "source": [
    "simcse_train_dataset.convert_to_ids(tokenizer)\n",
    "simcse_dev_dataset.convert_to_ids(tokenizer)"
   ]
  },
  {
   "cell_type": "markdown",
   "id": "ad99d3d5-6172-412c-afc5-9910d11fe6d6",
   "metadata": {},
   "source": [
    "<br>\n",
    "\n",
    "### 二、模型构建"
   ]
  },
  {
   "cell_type": "markdown",
   "id": "49358519-0ded-47b6-9a5a-7fadbc277d91",
   "metadata": {},
   "source": [
    "#### 1. 模型参数设置"
   ]
  },
  {
   "cell_type": "code",
   "execution_count": null,
   "id": "7db9a6ed-e94c-4da6-971d-97ca061f7500",
   "metadata": {},
   "outputs": [],
   "source": [
    "from transformers import BertConfig\n",
    "\n",
    "bert_config = BertConfig.from_pretrained(\n",
    "    'nghuyong/ernie-1.0',\n",
    "    num_labels=2\n",
    ")"
   ]
  },
  {
   "cell_type": "code",
   "execution_count": null,
   "id": "2e2b6bd2-db5f-4752-bea3-6be451e389b3",
   "metadata": {},
   "outputs": [],
   "source": [
    "torch.cuda.empty_cache()"
   ]
  },
  {
   "cell_type": "markdown",
   "id": "c5611ba7-bdb2-4124-9fd4-7afc5cc8a8cf",
   "metadata": {},
   "source": [
    "#### 2. 模型创建"
   ]
  },
  {
   "cell_type": "code",
   "execution_count": null,
   "id": "c256da81-d62c-4463-b950-10c3af50920b",
   "metadata": {},
   "outputs": [],
   "source": [
    "dl_module = SimCSE.from_pretrained(\n",
    "    'nghuyong/ernie-1.0', \n",
    "    config=bert_config,\n",
    "    dropout=0.3\n",
    ")"
   ]
  },
  {
   "cell_type": "markdown",
   "id": "b548fcf2-7f81-4539-a3b7-3a1b00f41825",
   "metadata": {},
   "source": [
    "<br>\n",
    "\n",
    "### 三、任务构建"
   ]
  },
  {
   "cell_type": "markdown",
   "id": "2c7ff6bc-70ba-42ea-ab46-3317b7b45fa9",
   "metadata": {},
   "source": [
    "#### 1. 任务参数和必要部件设定"
   ]
  },
  {
   "cell_type": "code",
   "execution_count": null,
   "id": "160d177b-03a0-49e8-b2da-4de6e760f3e6",
   "metadata": {},
   "outputs": [],
   "source": [
    "# 设置运行次数\n",
    "num_epoches = 10\n",
    "batch_size = 64"
   ]
  },
  {
   "cell_type": "code",
   "execution_count": null,
   "id": "de2740e1-1de2-413a-86bd-774e89cb5027",
   "metadata": {},
   "outputs": [],
   "source": [
    "param_optimizer = list(dl_module.named_parameters())\n",
    "param_optimizer = [n for n in param_optimizer if 'pooler' not in n[0]]\n",
    "no_decay = [\"bias\", \"LayerNorm.weight\"]\n",
    "optimizer_grouped_parameters = [\n",
    "    {'params': [p for n, p in param_optimizer if not any(nd in n for nd in no_decay)],\n",
    "     'weight_decay': 0.01},\n",
    "    {'params': [p for n, p in param_optimizer if any(nd in n for nd in no_decay)], 'weight_decay': 0.0}\n",
    "]     "
   ]
  },
  {
   "cell_type": "markdown",
   "id": "8c32c21f-29b7-4b5d-b276-dae364c55847",
   "metadata": {},
   "source": [
    "#### 2. 任务创建"
   ]
  },
  {
   "cell_type": "code",
   "execution_count": null,
   "id": "5443de84-617e-45f4-870b-ee736dd1e8d7",
   "metadata": {},
   "outputs": [],
   "source": [
    "model = Task(dl_module, 'adamw', 'ce', cuda_device=0)"
   ]
  },
  {
   "cell_type": "markdown",
   "id": "71fcc291-4fdc-44e0-8637-8cfc3d77e298",
   "metadata": {
    "tags": []
   },
   "source": [
    "#### 3. 训练"
   ]
  },
  {
   "cell_type": "code",
   "execution_count": null,
   "id": "16ece5ab-6fed-436a-b84e-0aed042ba8f8",
   "metadata": {},
   "outputs": [],
   "source": [
    "model.fit(\n",
    "    simcse_train_dataset,\n",
    "    simcse_dev_dataset,\n",
    "    lr=1e-5,\n",
    "    epochs=1,\n",
    "    batch_size=64,\n",
    "    params=optimizer_grouped_parameters\n",
    ")"
   ]
  },
  {
   "cell_type": "markdown",
   "id": "49477234-b9f9-4c60-82f4-993323ef8b96",
   "metadata": {},
   "source": [
    "<br>\n",
    "\n",
    "### 四、模型验证与保存"
   ]
  },
  {
   "cell_type": "markdown",
   "id": "527ad0e0-c5c5-4ca8-b2de-2c95d09daae2",
   "metadata": {
    "tags": []
   },
   "source": [
    "#### 1. 模型验证"
   ]
  },
  {
   "cell_type": "code",
   "execution_count": null,
   "id": "04bd9192-ff38-448d-ae76-7350ce1d3c33",
   "metadata": {},
   "outputs": [],
   "source": [
    "from ark_nlp.model.tm.unsupervised_simcse import Predictor\n",
    "\n",
    "simcse_predictor_instance = Predictor(model.module, tokenizer, simcse_dev_dataset.cat2id)"
   ]
  },
  {
   "cell_type": "code",
   "execution_count": null,
   "id": "581bc96e-1ce9-40ef-bf67-04be5a834aae",
   "metadata": {},
   "outputs": [],
   "source": [
    "simcse_predictor_instance.predict_one_sample(['感冒', '恐惧'])"
   ]
  },
  {
   "cell_type": "code",
   "execution_count": null,
   "id": "34406cbb-37a5-4dc5-8141-42e4cc6756e8",
   "metadata": {},
   "outputs": [],
   "source": [
    "simcse_predictor_instance.predict_one_sample(['感冒', '恐惧'], return_proba=True)"
   ]
  },
  {
   "cell_type": "code",
   "execution_count": null,
   "id": "8963c3b1-af14-4496-b078-2a9edaee96d6",
   "metadata": {},
   "outputs": [],
   "source": [
    "simcse_predictor_instance.predict_one_sample(['感冒', '恐惧'], threshold=None)"
   ]
  },
  {
   "cell_type": "markdown",
   "id": "46956e8c-fca6-4df0-b23f-22874ecc2cba",
   "metadata": {
    "tags": []
   },
   "source": [
    "#### 2. Batch模型验证"
   ]
  },
  {
   "cell_type": "code",
   "execution_count": null,
   "id": "c4c18f27-778a-4eee-8097-20cfb08fb472",
   "metadata": {},
   "outputs": [],
   "source": [
    "test_data_path = '../data/source_datasets/LCQMC/test.txt'"
   ]
  },
  {
   "cell_type": "code",
   "execution_count": null,
   "id": "b34a5ea5-d1b4-4598-8285-764dcdf904e4",
   "metadata": {},
   "outputs": [],
   "source": [
    "test_data_df = pd.read_csv(test_data_path, sep='\\t')\n",
    "test_data_df = (test_data_df\n",
    "                 .loc[:,['text_a', 'text_b', 'label']])"
   ]
  },
  {
   "cell_type": "code",
   "execution_count": null,
   "id": "b827a91b-027a-4b0c-8294-e917e183c0cf",
   "metadata": {},
   "outputs": [],
   "source": [
    "simcse_test_dataset = Dataset(test_data_df, categories=simcse_train_dataset.categories, is_test=True)\n",
    "simcse_test_dataset.convert_to_ids(tokenizer)"
   ]
  },
  {
   "cell_type": "code",
   "execution_count": null,
   "id": "4d5cf5e5-98e7-4dab-8c96-51db82dab83d",
   "metadata": {},
   "outputs": [],
   "source": [
    "predict_label = simcse_predictor_instance.predict_batch(simcse_test_dataset)"
   ]
  },
  {
   "cell_type": "markdown",
   "id": "dd2a10e7-0682-4c8a-be9b-f6a0f2136d6a",
   "metadata": {},
   "source": [
    "#### 3. 多样本验证"
   ]
  },
  {
   "cell_type": "code",
   "execution_count": null,
   "id": "8d6c36f2-d105-4bd7-bde5-607932b86b17",
   "metadata": {},
   "outputs": [],
   "source": [
    "test_data_path = '../data/source_datasets/LCQMC/test.txt'\n",
    "test_data_df = pd.read_csv(test_data_path, sep='\\t')\n",
    "test_data_df = (test_data_df\n",
    "                 .loc[:,['text_a', 'text_b', 'label']])\n",
    "\n",
    "record_ = []\n",
    "for _text_a, _text_b in zip(test_data_df['text_a'], test_data_df['text_b']):\n",
    "    record_.append([_text_a, _text_b, simcse_predictor_instance.predict_one_sample([_text_a, _text_b])])"
   ]
  },
  {
   "cell_type": "markdown",
   "id": "d9c50a81-e01e-4fd9-9017-9a3c8ea3e899",
   "metadata": {},
   "source": [
    "<br>\n",
    "\n",
    "### 五、模型测试报告"
   ]
  },
  {
   "cell_type": "markdown",
   "id": "f54c1f3b-4aa3-4005-a4f6-402aa174d1d0",
   "metadata": {},
   "source": [
    "1. 基本功能测试 通过\n",
    "2. one sample predict 通过\n",
    "3. batch predict  通过\n",
    "4. 多样本验证  通过"
   ]
  }
 ],
 "metadata": {
  "kernelspec": {
   "display_name": "Python 3 (ipykernel)",
   "language": "python",
   "name": "python3"
  },
  "language_info": {
   "codemirror_mode": {
    "name": "ipython",
    "version": 3
   },
   "file_extension": ".py",
   "mimetype": "text/x-python",
   "name": "python",
   "nbconvert_exporter": "python",
   "pygments_lexer": "ipython3",
   "version": "3.8.10"
  }
 },
 "nbformat": 4,
 "nbformat_minor": 5
}
